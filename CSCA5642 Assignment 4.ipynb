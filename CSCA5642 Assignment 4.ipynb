{
 "cells": [
  {
   "cell_type": "markdown",
   "metadata": {},
   "source": [
    "git repo: https://github.com/abdiwakene/NLP-Disaster-Tweets"
   ]
  },
  {
   "cell_type": "markdown",
   "metadata": {},
   "source": [
    "The aim is to create a machine learning model able to discriminate between tweets concerning actual disasters and those unrelated to them. Although Twitter is extensively used in emergencies, advanced natural language processing (NLP) is necessary to identify whether tweets really point to a disaster. This competition forces us to create a model that precisely forecasts the label (disaster or non-disaster) by using a dataset of labeled tweets.\n",
    "\n",
    "Data Profile:\n",
    "\n",
    "About 10,000 tweets in all have been manually labeled as either relevant to disasters or not. Every tweet finds expression in the following columns:\n",
    "\n",
    "- id: distinct code for every tweet\n",
    "- keyword: (if given) the tweet's related keyword\n",
    "- location: (if mentioned) the place connected to the tweet\n",
    "- text: The content of the actual tweets. \n",
    "\n",
    "- Target: a binary indicator—0 for not, 1 for disaster-related.\n",
    "\n",
    "Though it lacks the target label—what we hope to predict—the test dataset features similar columns."
   ]
  },
  {
   "cell_type": "code",
   "execution_count": null,
   "metadata": {},
   "outputs": [],
   "source": [
    "import pandas as pd\n",
    "import matplotlib.pyplot as plt\n",
    "import seaborn as sns\n",
    "import re\n",
    "from nltk.corpus import stopwords\n",
    "import nltk\n",
    "from tensorflow.keras.callbacks import EarlyStopping\n",
    "from tensorflow.keras.preprocessing.text import Tokenizer\n",
    "from tensorflow.keras.preprocessing.sequence import pad_sequences\n",
    "from tensorflow.keras.models import Sequential\n",
    "from tensorflow.keras.layers import Embedding, LSTM, Dense, Dropout\n",
    "from tensorflow.keras.optimizers import Adam\n",
    "from sklearn.feature_extraction.text import TfidfVectorizer\n",
    "from sklearn.model_selection import train_test_split\n",
    "from sklearn.linear_model import LogisticRegression\n",
    "from sklearn.metrics import accuracy_score, precision_score, recall_score, f1_score, classification_report"
   ]
  },
  {
   "cell_type": "code",
   "execution_count": 2,
   "metadata": {},
   "outputs": [
    {
     "name": "stdout",
     "output_type": "stream",
     "text": [
      "Training data shape: (7613, 5)\n",
      "Testing data shape: (3263, 4)\n"
     ]
    },
    {
     "data": {
      "text/html": [
       "<div>\n",
       "<style scoped>\n",
       "    .dataframe tbody tr th:only-of-type {\n",
       "        vertical-align: middle;\n",
       "    }\n",
       "\n",
       "    .dataframe tbody tr th {\n",
       "        vertical-align: top;\n",
       "    }\n",
       "\n",
       "    .dataframe thead th {\n",
       "        text-align: right;\n",
       "    }\n",
       "</style>\n",
       "<table border=\"1\" class=\"dataframe\">\n",
       "  <thead>\n",
       "    <tr style=\"text-align: right;\">\n",
       "      <th></th>\n",
       "      <th>id</th>\n",
       "      <th>keyword</th>\n",
       "      <th>location</th>\n",
       "      <th>text</th>\n",
       "      <th>target</th>\n",
       "    </tr>\n",
       "  </thead>\n",
       "  <tbody>\n",
       "    <tr>\n",
       "      <th>0</th>\n",
       "      <td>1</td>\n",
       "      <td>NaN</td>\n",
       "      <td>NaN</td>\n",
       "      <td>Our Deeds are the Reason of this #earthquake M...</td>\n",
       "      <td>1</td>\n",
       "    </tr>\n",
       "    <tr>\n",
       "      <th>1</th>\n",
       "      <td>4</td>\n",
       "      <td>NaN</td>\n",
       "      <td>NaN</td>\n",
       "      <td>Forest fire near La Ronge Sask. Canada</td>\n",
       "      <td>1</td>\n",
       "    </tr>\n",
       "    <tr>\n",
       "      <th>2</th>\n",
       "      <td>5</td>\n",
       "      <td>NaN</td>\n",
       "      <td>NaN</td>\n",
       "      <td>All residents asked to 'shelter in place' are ...</td>\n",
       "      <td>1</td>\n",
       "    </tr>\n",
       "    <tr>\n",
       "      <th>3</th>\n",
       "      <td>6</td>\n",
       "      <td>NaN</td>\n",
       "      <td>NaN</td>\n",
       "      <td>13,000 people receive #wildfires evacuation or...</td>\n",
       "      <td>1</td>\n",
       "    </tr>\n",
       "    <tr>\n",
       "      <th>4</th>\n",
       "      <td>7</td>\n",
       "      <td>NaN</td>\n",
       "      <td>NaN</td>\n",
       "      <td>Just got sent this photo from Ruby #Alaska as ...</td>\n",
       "      <td>1</td>\n",
       "    </tr>\n",
       "  </tbody>\n",
       "</table>\n",
       "</div>"
      ],
      "text/plain": [
       "   id keyword location                                               text  \\\n",
       "0   1     NaN      NaN  Our Deeds are the Reason of this #earthquake M...   \n",
       "1   4     NaN      NaN             Forest fire near La Ronge Sask. Canada   \n",
       "2   5     NaN      NaN  All residents asked to 'shelter in place' are ...   \n",
       "3   6     NaN      NaN  13,000 people receive #wildfires evacuation or...   \n",
       "4   7     NaN      NaN  Just got sent this photo from Ruby #Alaska as ...   \n",
       "\n",
       "   target  \n",
       "0       1  \n",
       "1       1  \n",
       "2       1  \n",
       "3       1  \n",
       "4       1  "
      ]
     },
     "execution_count": 2,
     "metadata": {},
     "output_type": "execute_result"
    }
   ],
   "source": [
    "train_data = pd.read_csv('/kaggle/input/nlp-getting-started/train.csv')\n",
    "test_data = pd.read_csv('/kaggle/input/nlp-getting-started/test.csv')\n",
    "\n",
    "print(\"Training data shape:\", train_data.shape)\n",
    "print(\"Testing data shape:\", test_data.shape)\n",
    "\n",
    "train_data.head()"
   ]
  },
  {
   "cell_type": "code",
   "execution_count": 3,
   "metadata": {},
   "outputs": [
    {
     "name": "stdout",
     "output_type": "stream",
     "text": [
      "Missing values in train data:\n",
      "id             0\n",
      "keyword       61\n",
      "location    2533\n",
      "text           0\n",
      "target         0\n",
      "length         0\n",
      "dtype: int64\n",
      "Train Length Stat\n",
      "\n",
      "Text length statistics:\n",
      "count    7613.000000\n",
      "mean      101.037436\n",
      "std        33.781325\n",
      "min         7.000000\n",
      "25%        78.000000\n",
      "50%       107.000000\n",
      "75%       133.000000\n",
      "max       157.000000\n",
      "Name: text_length, dtype: float64\n",
      "Test Length Stat\n",
      "\n",
      "Text length statistics:\n",
      "count    3263.000000\n",
      "mean      102.108183\n",
      "std        33.972158\n",
      "min         5.000000\n",
      "25%        78.000000\n",
      "50%       109.000000\n",
      "75%       134.000000\n",
      "max       151.000000\n",
      "Name: text_length, dtype: float64\n"
     ]
    }
   ],
   "source": [
    "train_data[\"length\"] = train_data[\"text\"].apply(lambda x : len(x))\n",
    "test_data[\"length\"] = test_data[\"text\"].apply(lambda x : len(x))\n",
    "\n",
    "print(\"Missing values in train data:\")\n",
    "print(train_data.isnull().sum())\n",
    "\n",
    "print(\"Train Length Stat\")\n",
    "train_data['text_length'] = train_data['text'].apply(len)\n",
    "print(\"\\nText length statistics:\")\n",
    "print(train_data['text_length'].describe())\n",
    "\n",
    "print(\"Test Length Stat\")\n",
    "test_data['text_length'] = test_data['text'].apply(len)\n",
    "print(\"\\nText length statistics:\")\n",
    "print(test_data['text_length'].describe())"
   ]
  },
  {
   "cell_type": "code",
   "execution_count": 4,
   "metadata": {},
   "outputs": [
    {
     "data": {
      "image/png": "[encoded data removed]",
      "text/plain": [
       "<Figure size 600x400 with 1 Axes>"
      ]
     },
     "metadata": {},
     "output_type": "display_data"
    },
    {
     "data": {
      "image/png": "[encoded data removed]",
      "text/plain": [
       "<Figure size 800x400 with 1 Axes>"
      ]
     },
     "metadata": {},
     "output_type": "display_data"
    }
   ],
   "source": [
    "plt.figure(figsize=(6,4))\n",
    "sns.countplot(x='target', data=train_data)\n",
    "plt.title('Distribution of Target Labels (Disaster vs Non-disaster)')\n",
    "plt.xlabel('Target')\n",
    "plt.ylabel('Count')\n",
    "plt.show()\n",
    "\n",
    "plt.figure(figsize=(8,4))\n",
    "sns.histplot(train_data['text_length'], bins=50)\n",
    "plt.title('Distribution of Tweet Text Lengths')\n",
    "plt.xlabel('Text Length')\n",
    "plt.ylabel('Count')\n",
    "plt.show()"
   ]
  },
  {
   "cell_type": "code",
   "execution_count": 5,
   "metadata": {},
   "outputs": [
    {
     "name": "stderr",
     "output_type": "stream",
     "text": [
      "[nltk_data] Downloading package stopwords to\n",
      "[nltk_data]     /Users/abdiwakene/nltk_data...\n",
      "[nltk_data]   Package stopwords is already up-to-date!\n"
     ]
    }
   ],
   "source": [
    "nltk.download('stopwords')\n",
    "stop_words = set(stopwords.words('english'))\n",
    "\n",
    "def clean_text(text):\n",
    "    text = text.lower()\n",
    "    text = re.sub(r'http\\S+|www\\S+|https\\S+', '', text, flags=re.MULTILINE)\n",
    "    text = re.sub(r'\\@\\w+|\\#', '', text)\n",
    "    text = re.sub(r'\\d+', '', text)\n",
    "    text = re.sub(r'\\W+', ' ', text)\n",
    "    text = ' '.join([word for word in text.split() if word not in stop_words])\n",
    "    return text\n",
    "\n",
    "train_data['cleaned_text'] = train_data['text'].apply(clean_text)\n",
    "test_data['cleaned_text'] = test_data['text'].apply(clean_text)\n",
    "\n",
    "train_data['keyword'].fillna('unknown', inplace=True)\n",
    "train_data['location'].fillna('unknown', inplace=True)\n",
    "test_data['keyword'].fillna('unknown', inplace=True)\n",
    "test_data['location'].fillna('unknown', inplace=True)"
   ]
  },
  {
   "cell_type": "markdown",
   "metadata": {},
   "source": [
    "Plan of Analysis\n",
    "\n",
    "Features for our models will be cleaned text, keywords, and maybe location. TF-IDF or word embeddings will be used vectorizing the book. We will test several models including logistic regression, random forests, and deep learning models (LSTM). Model performance will be assessed using accuracy, precision, recall, F1 score."
   ]
  },
  {
   "cell_type": "markdown",
   "metadata": {},
   "source": [
    "First Approach: Conventional Machine Learning Models\n",
    "\n",
    "We will translate text data into numerical features using text vectorizing methods including TF-IDF (Term Frequency-Inverse Document Frequency) for conventional models. We will then teach models like logistic regression. Often used for binary classification challenges, logistic regression is a basic and efficient classification model. It could act as a benchmark for comparison.\n",
    "\n",
    "Second Approach: Deep Learning Model\n",
    "\n",
    "We will also discuss deep learning methods, more especially text classification using an LSTM (Long Short-Term Memory) model. For sequential data like text, where word order counts, LSTM is a form of recurrent neural network (RNN)."
   ]
  },
  {
   "cell_type": "code",
   "execution_count": 35,
   "metadata": {},
   "outputs": [
    {
     "name": "stdout",
     "output_type": "stream",
     "text": [
      "Logistic Regression Results:\n",
      "Adjusted Accuracy: 0.7839789888378201\n",
      "\n",
      "Classification Report:\n",
      "               precision    recall  f1-score   support\n",
      "\n",
      "           0       0.81      0.81      0.81       874\n",
      "           1       0.75      0.74      0.75       649\n",
      "\n",
      "    accuracy                           0.78      1523\n",
      "   macro avg       0.78      0.78      0.78      1523\n",
      "weighted avg       0.78      0.78      0.78      1523\n",
      "\n"
     ]
    }
   ],
   "source": [
    "X_train, X_val, y_train, y_val = train_test_split(train_data['cleaned_text'], train_data['target'], test_size=0.2, random_state=42)\n",
    "\n",
    "tfidf_vectorizer = TfidfVectorizer(max_features=5000, ngram_range=(1, 2))\n",
    "X_train_tfidf = tfidf_vectorizer.fit_transform(X_train)\n",
    "X_val_tfidf = tfidf_vectorizer.transform(X_val)\n",
    "\n",
    "log_reg_balanced = LogisticRegression(class_weight='balanced', C=1)\n",
    "log_reg_balanced.fit(X_train_tfidf, y_train)\n",
    "\n",
    "y_pred_log_reg_balanced = log_reg_balanced.predict(X_val_tfidf)\n",
    "\n",
    "accuracy_log_reg_balanced = accuracy_score(y_val, y_pred_log_reg_balanced)\n",
    "\n",
    "print(\"Logistic Regression Results:\")\n",
    "print(\"Adjusted Accuracy:\", accuracy_score(y_val, y_pred_log_reg_balanced))\n",
    "print(\"\\nClassification Report:\\n\", classification_report(y_val, y_pred_log_reg_balanced))"
   ]
  },
  {
   "cell_type": "code",
   "execution_count": 33,
   "metadata": {},
   "outputs": [
    {
     "name": "stdout",
     "output_type": "stream",
     "text": [
      "Best parameters for Logistic Regression: {'C': 1}\n"
     ]
    }
   ],
   "source": [
    "from sklearn.model_selection import GridSearchCV\n",
    "\n",
    "param_grid = {'C': [0.01, 0.1, 1, 10]}\n",
    "grid_search = GridSearchCV(LogisticRegression(), param_grid, cv=3, scoring='accuracy')\n",
    "grid_search.fit(X_train_tfidf, y_train)\n",
    "\n",
    "print(\"Best parameters for Logistic Regression:\", grid_search.best_params_)"
   ]
  },
  {
   "cell_type": "code",
   "execution_count": 42,
   "metadata": {},
   "outputs": [
    {
     "name": "stdout",
     "output_type": "stream",
     "text": [
      "Epoch 1/10\n",
      "\u001b[1m96/96\u001b[0m \u001b[32m━━━━━━━━━━━━━━━━━━━━\u001b[0m\u001b[37m\u001b[0m \u001b[1m7s\u001b[0m 44ms/step - accuracy: 0.5733 - loss: 0.6740 - val_accuracy: 0.6362 - val_loss: 0.6313\n",
      "Epoch 2/10\n",
      "\u001b[1m96/96\u001b[0m \u001b[32m━━━━━━━━━━━━━━━━━━━━\u001b[0m\u001b[37m\u001b[0m \u001b[1m4s\u001b[0m 38ms/step - accuracy: 0.7066 - loss: 0.6091 - val_accuracy: 0.7866 - val_loss: 0.5021\n",
      "Epoch 3/10\n",
      "\u001b[1m96/96\u001b[0m \u001b[32m━━━━━━━━━━━━━━━━━━━━\u001b[0m\u001b[37m\u001b[0m \u001b[1m4s\u001b[0m 40ms/step - accuracy: 0.8352 - loss: 0.4402 - val_accuracy: 0.8011 - val_loss: 0.4516\n",
      "Epoch 4/10\n",
      "\u001b[1m96/96\u001b[0m \u001b[32m━━━━━━━━━━━━━━━━━━━━\u001b[0m\u001b[37m\u001b[0m \u001b[1m4s\u001b[0m 41ms/step - accuracy: 0.8833 - loss: 0.3207 - val_accuracy: 0.7958 - val_loss: 0.4636\n",
      "Epoch 5/10\n",
      "\u001b[1m96/96\u001b[0m \u001b[32m━━━━━━━━━━━━━━━━━━━━\u001b[0m\u001b[37m\u001b[0m \u001b[1m4s\u001b[0m 40ms/step - accuracy: 0.9057 - loss: 0.2806 - val_accuracy: 0.7892 - val_loss: 0.5087\n",
      "Epoch 6/10\n",
      "\u001b[1m96/96\u001b[0m \u001b[32m━━━━━━━━━━━━━━━━━━━━\u001b[0m\u001b[37m\u001b[0m \u001b[1m4s\u001b[0m 38ms/step - accuracy: 0.9194 - loss: 0.2297 - val_accuracy: 0.7695 - val_loss: 0.5504\n",
      "Adjusted LSTM Validation Accuracy: 0.8011\n"
     ]
    }
   ],
   "source": [
    "max_len = 100\n",
    "tokenizer = Tokenizer(num_words=5000)\n",
    "tokenizer.fit_on_texts(train_data['cleaned_text'])\n",
    "\n",
    "X_train_seq = tokenizer.texts_to_sequences(X_train)\n",
    "X_val_seq = tokenizer.texts_to_sequences(X_val)\n",
    "X_train_pad = pad_sequences(X_train_seq, maxlen=max_len)\n",
    "X_val_pad = pad_sequences(X_val_seq, maxlen=max_len)\n",
    "\n",
    "model_lstm_adjusted = Sequential()\n",
    "model_lstm_adjusted.add(Embedding(input_dim=5000, output_dim=128))\n",
    "model_lstm_adjusted.add(LSTM(32))\n",
    "model_lstm_adjusted.add(Dropout(0.7))\n",
    "model_lstm_adjusted.add(Dense(1, activation='sigmoid'))\n",
    "\n",
    "optimizer = Adam(learning_rate=0.0005)\n",
    "model_lstm_adjusted.compile(loss='binary_crossentropy', optimizer=optimizer, metrics=['accuracy'])\n",
    "\n",
    "early_stopping = EarlyStopping(monitor='val_loss', patience=3, restore_best_weights=True)\n",
    "\n",
    "model_lstm_adjusted.fit(X_train_pad, y_train, epochs=10, batch_size=64, validation_data=(X_val_pad, y_val), callbacks=[early_stopping])\n",
    "\n",
    "lstm_eval_adjusted = model_lstm_adjusted.evaluate(X_val_pad, y_val, verbose=0)\n",
    "print(f\"Adjusted LSTM Validation Accuracy: {lstm_eval_adjusted[1]:.4f}\")"
   ]
  },
  {
   "cell_type": "code",
   "execution_count": 44,
   "metadata": {},
   "outputs": [
    {
     "name": "stdout",
     "output_type": "stream",
     "text": [
      "Logistic Regression Performance:\n",
      "Accuracy: 0.7840\n",
      "Precision: 0.7477\n",
      "Recall: 0.7442\n",
      "F1 Score: 0.7459\n"
     ]
    }
   ],
   "source": [
    "y_pred_log_reg = log_reg_balanced.predict(X_val_tfidf)\n",
    "\n",
    "accuracy_log_reg = accuracy_score(y_val, y_pred_log_reg)\n",
    "precision_log_reg = precision_score(y_val, y_pred_log_reg)\n",
    "recall_log_reg = recall_score(y_val, y_pred_log_reg)\n",
    "f1_log_reg = f1_score(y_val, y_pred_log_reg)\n",
    "\n",
    "print(\"Logistic Regression Performance:\")\n",
    "print(f\"Accuracy: {accuracy_log_reg:.4f}\")\n",
    "print(f\"Precision: {precision_log_reg:.4f}\")\n",
    "print(f\"Recall: {recall_log_reg:.4f}\")\n",
    "print(f\"F1 Score: {f1_log_reg:.4f}\")"
   ]
  },
  {
   "cell_type": "code",
   "execution_count": 43,
   "metadata": {},
   "outputs": [
    {
     "name": "stdout",
     "output_type": "stream",
     "text": [
      "\u001b[1m48/48\u001b[0m \u001b[32m━━━━━━━━━━━━━━━━━━━━\u001b[0m\u001b[37m\u001b[0m \u001b[1m1s\u001b[0m 18ms/step\n",
      "LSTM Model Performance:\n",
      "Accuracy: 0.8011\n",
      "Precision: 0.7952\n",
      "Recall: 0.7180\n",
      "F1 Score: 0.7547\n"
     ]
    }
   ],
   "source": [
    "y_pred_lstm = (model_lstm_adjusted.predict(X_val_pad) > 0.5).astype(\"int32\")\n",
    "\n",
    "accuracy_lstm = accuracy_score(y_val, y_pred_lstm)\n",
    "precision_lstm = precision_score(y_val, y_pred_lstm)\n",
    "recall_lstm = recall_score(y_val, y_pred_lstm)\n",
    "f1_lstm = f1_score(y_val, y_pred_lstm)\n",
    "\n",
    "print(\"LSTM Model Performance:\")\n",
    "print(f\"Accuracy: {accuracy_lstm:.4f}\")\n",
    "print(f\"Precision: {precision_lstm:.4f}\")\n",
    "print(f\"Recall: {recall_lstm:.4f}\")\n",
    "print(f\"F1 Score: {f1_lstm:.4f}\")"
   ]
  },
  {
   "cell_type": "markdown",
   "metadata": {},
   "source": [
    "Results\n",
    "\n",
    "- Logistic Regression:\n",
    "    - Previous Results:\n",
    "        - Accuracy: 0.7971\n",
    "        - Precision: 0.8025\n",
    "        - Recall: 0.6949\n",
    "        - F1 Score: 0.7448\n",
    "\n",
    "    - Adjusted Results:\n",
    "        - Accuracy: 0.7840\n",
    "        - Precision: 0.7477\n",
    "        - Recall: 0.7442\n",
    "        - F1 Score: 0.7459\n",
    "\n",
    "From 0.6949 to 0.7442, the modified Logistic Regression model shows a notable increase in recall while somewhat declining accuracy and precision. One of the main objectives of changing the class balance was to find more disaster-related tweets, which the recall improvement indicates the model is now spotting. For better recall, the little drop in accuracy and precision is a reasonable compromise. The almost constant F1 score indicates a balanced model performance between recall and precision.\n",
    "\n",
    "\n",
    "- LSTM:\n",
    "    - Previous Results:\n",
    "        - Accuracy: 0.7603\n",
    "        - Precision: 0.7139\n",
    "        - Recall: 0.7304\n",
    "        - F1 Score: 0.7220\n",
    "\n",
    "    - Adjusted Results:\n",
    "        - Accuracy: 0.8011\n",
    "        - Precision: 0.7952\n",
    "        - Recall: 0.7180\n",
    "        - F1 Score: 0.7547\n",
    "\n",
    "From 0.7603 to 0.811, the modified LSTM shows a notable increase in accuracy; precision; and F1 score. The recall dropped somewhat, but this is natural as the model gets more accurate. Higher accuracy and F1 score indicate a better balance between precision and recall, so enhancing the LSTM model's capacity to both correctly identify disaster tweets and prevent false positives—non-disaster tweets wrongly classified as disasters. Better validation performance resulted from early stopping and dropout modifications helping to prevent overfitting."
   ]
  },
  {
   "cell_type": "markdown",
   "metadata": {},
   "source": [
    "The main goal of this project was building a model able to forecast whether a tweet is disaster-related or not. With the following key steps, we investigated two main methods: Logistic Regression and LSTM (long short-term memory):\n",
    "\n",
    "- Data Cleaning and Preprocessing: removed extraneous characters, links, and stopwords from the text data to prepare it.\n",
    "\n",
    "- Feature Engineering: applied sequence padding for LSTM and TF-IDF for text vectorization in conventional machine learning models (Logistic Regression).\n",
    "\n",
    "- Model Training: applied hyperparameter tuning, class balancing, dropout regularization, and early stopping to raise model performance after training Logistic Regression and LSTM models.\n",
    "\n",
    "2. Model Performance Recap:\n",
    "\n",
    "    - Logistic Regression:\n",
    "        - Adjusted Accuracy: 0.7840\n",
    "        - Precision: 0.7477\n",
    "        - Recall: 0.7442\n",
    "        - F1 Score: 0.7459\n",
    "\n",
    "    - LSTM:\n",
    "        - Adjusted Accuracy: 0.8011\n",
    "        - Precision: 0.7952\n",
    "        - Recall: 0.7180\n",
    "        - F1 Score: 0.7547\n",
    "\n",
    "3. Key Learnings:\n",
    "\n",
    "    - A strong baseline came from logistic regression. One of the main objectives was to increase the recall of the model by means of post-class balancing, so improving its ability to identify tweets connected to disasters.\n",
    "    - Particularly after using dropout and early stopping, LSTM displayed better general performance. Capturing more intricate patterns in the text, this model excelled in terms of accuracy and F1 score.\n",
    "\n",
    "4. What Worked Well:\n",
    "\n",
    "    - Text Preprocessing: Cleaning the text by removing URLs, stopwords, and other unnecessary elements had a significant impact on improving model performance.\n",
    "    - Hyperparameter Tuning: For both models, tuning key hyperparameters like C for Logistic Regression and learning rate for LSTM improved their respective performances.\n",
    "    - Regularization and Early Stopping: These techniques were crucial for the LSTM model, preventing overfitting and leading to better generalization on unseen data.\n",
    "\n",
    "5. Challenges and What Could Be Improved:\n",
    "\n",
    "    - Class Imbalance: Originally, the disaster tweets had lower recall than non-disaster tweets since their count was less. While class balancing improved, other methods including cost-sensitive learning or SMOTE (Synthetic Minority Over-Sampling) could be investigated to raise recall even more.\n",
    "    - Model Complexity: Although LSTM performed well, computationally costly training complex models like this. Without using as much computational ability, investigating more effective architectures or using pre-trained models like BERT or GloVe embeddings could help increase accuracy.\n",
    "    - Feature Engineering: Although future versions could include metadata such keyword or location to further improve model performance, we mostly depended on text data (tweet text).\n",
    "\n",
    "6. Future Work:\n",
    "\n",
    "    - Explore Pre-trained Models: We could improve results by using transfer learning with pre-trained language models like BERT, which has shown state-of-the-art performance in many NLP tasks.\n",
    "    - Fine-tuning LSTM: We could try tuning other LSTM hyperparameters, such as batch size."
   ]
  },
  {
   "cell_type": "code",
   "execution_count": null,
   "metadata": {},
   "outputs": [],
   "source": [
    "X_test_seq = tokenizer.texts_to_sequences(test_data['cleaned_text'])\n",
    "X_test_pad = pad_sequences(X_test_seq, maxlen=max_len)\n",
    "\n",
    "lstm_test_predictions = (model_lstm_adjusted.predict(X_test_pad) > 0.5).astype(\"int32\")\n",
    "\n",
    "submission_lstm = pd.DataFrame({\n",
    "    'id': test_data['id'],\n",
    "    'target': lstm_test_predictions.ravel()\n",
    "})\n",
    "\n",
    "submission_lstm.to_csv('submission_lstm.csv', index=False)\n",
    "\n",
    "print(\"LSTM submission file saved as 'submission_lstm.csv'\")"
   ]
  }
 ],
 "metadata": {
  "kernelspec": {
   "display_name": "Python 3",
   "language": "python",
   "name": "python3"
  },
  "language_info": {
   "codemirror_mode": {
    "name": "ipython",
    "version": 3
   },
   "file_extension": ".py",
   "mimetype": "text/x-python",
   "name": "python",
   "nbconvert_exporter": "python",
   "pygments_lexer": "ipython3",
   "version": "3.12.0"
  }
 },
 "nbformat": 4,
 "nbformat_minor": 2
}
